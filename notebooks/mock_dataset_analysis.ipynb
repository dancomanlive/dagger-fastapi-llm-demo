{
 "cells": [
  {
   "cell_type": "code",
   "execution_count": null,
   "id": "e409a46a",
   "metadata": {},
   "outputs": [],
   "source": [
    "import json\n",
    "import os\n",
    "from tools.backend_utilities import flatten_query_responses, clean_knn_parameters, load_dataset"
   ]
  },
  {
   "cell_type": "code",
   "execution_count": null,
   "id": "672dc38a",
   "metadata": {},
   "outputs": [],
   "source": [
    "mock_data = [\n",
    "    {\"document_id\": \"doc1\", \"text\": \"This is a sample document about AI.\", \"metadata\": {\"category\": \"technology\", \"author\": \"John Doe\"}},\n",
    "    {\"document_id\": \"doc2\", \"text\": \"This document discusses the history of machine learning.\", \"metadata\": {\"category\": \"education\", \"author\": \"Jane Smith\"}},\n",
    "    {\"document_id\": \"doc3\", \"text\": \"A guide to understanding neural networks.\", \"metadata\": {\"category\": \"tutorial\", \"author\": \"Alice Johnson\"}}\n",
    "]\n",
    "mock_file_path = \"mock_dataset.jsonl\"\n",
    "with open(mock_file_path, \"w\") as f:\n",
    "    for entry in mock_data:\n",
    "        f.write(json.dumps(entry) + \"\\n\")\n",
    "print(f\"Mock dataset saved to {mock_file_path}\")"
   ]
  },
  {
   "cell_type": "code",
   "execution_count": null,
   "id": "82738e1b",
   "metadata": {},
   "outputs": [],
   "source": [
    "sample_responses = [\n",
    "    {\"text\": \"Document 1 content\", \"score\": 0.95, \"metadata\": {\"author\": \"John Doe\"}},\n",
    "    {\"text\": \"Document 2 content\", \"score\": 0.89, \"metadata\": {\"author\": \"Jane Smith\"}}\n",
    "]\n",
    "flattened_responses = flatten_query_responses(sample_responses)\n",
    "print(\"Flattened Query Responses:\", flattened_responses)"
   ]
  },
  {
   "cell_type": "code",
   "execution_count": null,
   "id": "f2fee009",
   "metadata": {},
   "outputs": [],
   "source": [
    "knn_params = {\n",
    "    \"k\": 5,\n",
    "    \"distance_metric\": \"cosine\",\n",
    "    \"debug\": True,\n",
    "    \"internal\": \"value\"\n",
    "}\n",
    "cleaned_params = clean_knn_parameters(knn_params)\n",
    "print(\"Cleaned KNN Parameters:\", cleaned_params)"
   ]
  },
  {
   "cell_type": "code",
   "execution_count": null,
   "id": "49b6dcaf",
   "metadata": {},
   "outputs": [],
   "source": [
    "loaded_data = load_dataset(mock_file_path)\n",
    "print(\"Loaded Dataset:\", loaded_data)"
   ]
  }
 ],
 "metadata": {
  "language_info": {
   "name": "python"
  }
 },
 "nbformat": 4,
 "nbformat_minor": 5
}
